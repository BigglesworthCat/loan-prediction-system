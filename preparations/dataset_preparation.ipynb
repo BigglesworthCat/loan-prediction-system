{
 "cells": [
  {
   "cell_type": "markdown",
   "id": "2e4d9aa1-bad2-4605-b469-53fb0edf1f4d",
   "metadata": {
    "tags": []
   },
   "source": [
    "# Imports"
   ]
  },
  {
   "cell_type": "code",
   "execution_count": 1,
   "id": "32817c73-e6f2-4b09-b2ba-1af88720318b",
   "metadata": {
    "ExecuteTime": {
     "end_time": "2023-12-19T17:37:17.629061700Z",
     "start_time": "2023-12-19T17:37:17.577654Z"
    }
   },
   "outputs": [],
   "source": [
    "import numpy as np\n",
    "import pandas as pd"
   ]
  },
  {
   "cell_type": "markdown",
   "id": "0d68dcda-926f-4780-9038-827a98899e20",
   "metadata": {
    "tags": []
   },
   "source": [
    "# Filling NaNs"
   ]
  },
  {
   "cell_type": "code",
   "execution_count": 2,
   "id": "68ab903b-921d-48f1-9d4e-121a52dab9a8",
   "metadata": {
    "ExecuteTime": {
     "end_time": "2023-12-19T17:37:17.661792800Z",
     "start_time": "2023-12-19T17:37:17.625237200Z"
    }
   },
   "outputs": [],
   "source": [
    "def fill_data_median(data: pd.DataFrame, columns_with_na: str | list) -> pd.DataFrame:\n",
    "    if type(columns_with_na) is str:\n",
    "        columns_with_na = [columns_with_na]\n",
    "    medians = data[columns_with_na].median(axis = 0).transpose()\n",
    "    filled_columns = data[columns_with_na].fillna(value=medians)\n",
    "    return pd.concat([data.drop(columns_with_na, axis=1), filled_columns], axis=1)"
   ]
  },
  {
   "cell_type": "code",
   "execution_count": 3,
   "id": "4e43779a-f152-4f5e-ac98-264d0d118688",
   "metadata": {
    "ExecuteTime": {
     "end_time": "2023-12-19T17:37:17.730037600Z",
     "start_time": "2023-12-19T17:37:17.654145200Z"
    }
   },
   "outputs": [],
   "source": [
    "def fill_data_mean(data: pd.DataFrame, columns_with_na: str | list) -> pd.DataFrame:\n",
    "    if type(columns_with_na) is str:\n",
    "        columns_with_na = [columns_with_na]\n",
    "    medians = data[columns_with_na].mean(axis = 0).transpose()\n",
    "    filled_columns = data[columns_with_na].fillna(value=medians)\n",
    "    return pd.concat([data.drop(columns_with_na, axis=1), filled_columns], axis=1)"
   ]
  },
  {
   "cell_type": "code",
   "execution_count": 4,
   "id": "bc0836da-55ab-4272-bb43-ce8d4674a221",
   "metadata": {
    "ExecuteTime": {
     "end_time": "2023-12-19T17:37:17.731040300Z",
     "start_time": "2023-12-19T17:37:17.670992200Z"
    }
   },
   "outputs": [],
   "source": [
    "def fill_data_mode(data: pd.DataFrame, columns_with_na: str | list) -> pd.DataFrame:\n",
    "    filled_data = data.copy()\n",
    "    if type(columns_with_na) is str:\n",
    "        columns_with_na = [columns_with_na]\n",
    "    for column in columns_with_na:\n",
    "        mode = filled_data[column].mode()[0]\n",
    "        filled_data[column] = filled_data[column].fillna(mode)\n",
    "    return filled_data"
   ]
  },
  {
   "cell_type": "markdown",
   "id": "de5698c1",
   "metadata": {
    "tags": []
   },
   "source": [
    "# Dataset"
   ]
  },
  {
   "cell_type": "code",
   "execution_count": 5,
   "id": "00e64d51",
   "metadata": {
    "ExecuteTime": {
     "end_time": "2023-12-19T17:37:17.821426500Z",
     "start_time": "2023-12-19T17:37:17.686577600Z"
    }
   },
   "outputs": [
    {
     "data": {
      "text/plain": "       person_age  person_income person_home_ownership  person_emp_length  \\\n0              22          59000                  RENT              123.0   \n1              21           9600                   OWN                5.0   \n2              25           9600              MORTGAGE                1.0   \n3              23          65500                  RENT                4.0   \n4              24          54400                  RENT                8.0   \n...           ...            ...                   ...                ...   \n32576          57          53000              MORTGAGE                1.0   \n32577          54         120000              MORTGAGE                4.0   \n32578          65          76000                  RENT                3.0   \n32579          56         150000              MORTGAGE                5.0   \n32580          66          42000                  RENT                2.0   \n\n           loan_intent loan_grade  loan_amount  loan_int_rate  loan_status  \\\n0             PERSONAL          D        35000          16.02            1   \n1            EDUCATION          B         1000          11.14            0   \n2              MEDICAL          C         5500          12.87            1   \n3              MEDICAL          C        35000          15.23            1   \n4              MEDICAL          C        35000          14.27            1   \n...                ...        ...          ...            ...          ...   \n32576         PERSONAL          C         5800          13.16            0   \n32577         PERSONAL          A        17625           7.49            0   \n32578  HOMEIMPROVEMENT          B        35000          10.99            1   \n32579         PERSONAL          B        15000          11.48            0   \n32580          MEDICAL          B         6475           9.99            0   \n\n       loan_percent_income cb_person_default_on_file  \\\n0                     0.59                         Y   \n1                     0.10                         N   \n2                     0.57                         N   \n3                     0.53                         N   \n4                     0.55                         Y   \n...                    ...                       ...   \n32576                 0.11                         N   \n32577                 0.15                         N   \n32578                 0.46                         N   \n32579                 0.10                         N   \n32580                 0.15                         N   \n\n       cb_person_cred_hist_length  \n0                               3  \n1                               2  \n2                               3  \n3                               2  \n4                               4  \n...                           ...  \n32576                          30  \n32577                          19  \n32578                          28  \n32579                          26  \n32580                          30  \n\n[32581 rows x 12 columns]",
      "text/html": "<div>\n<style scoped>\n    .dataframe tbody tr th:only-of-type {\n        vertical-align: middle;\n    }\n\n    .dataframe tbody tr th {\n        vertical-align: top;\n    }\n\n    .dataframe thead th {\n        text-align: right;\n    }\n</style>\n<table border=\"1\" class=\"dataframe\">\n  <thead>\n    <tr style=\"text-align: right;\">\n      <th></th>\n      <th>person_age</th>\n      <th>person_income</th>\n      <th>person_home_ownership</th>\n      <th>person_emp_length</th>\n      <th>loan_intent</th>\n      <th>loan_grade</th>\n      <th>loan_amount</th>\n      <th>loan_int_rate</th>\n      <th>loan_status</th>\n      <th>loan_percent_income</th>\n      <th>cb_person_default_on_file</th>\n      <th>cb_person_cred_hist_length</th>\n    </tr>\n  </thead>\n  <tbody>\n    <tr>\n      <th>0</th>\n      <td>22</td>\n      <td>59000</td>\n      <td>RENT</td>\n      <td>123.0</td>\n      <td>PERSONAL</td>\n      <td>D</td>\n      <td>35000</td>\n      <td>16.02</td>\n      <td>1</td>\n      <td>0.59</td>\n      <td>Y</td>\n      <td>3</td>\n    </tr>\n    <tr>\n      <th>1</th>\n      <td>21</td>\n      <td>9600</td>\n      <td>OWN</td>\n      <td>5.0</td>\n      <td>EDUCATION</td>\n      <td>B</td>\n      <td>1000</td>\n      <td>11.14</td>\n      <td>0</td>\n      <td>0.10</td>\n      <td>N</td>\n      <td>2</td>\n    </tr>\n    <tr>\n      <th>2</th>\n      <td>25</td>\n      <td>9600</td>\n      <td>MORTGAGE</td>\n      <td>1.0</td>\n      <td>MEDICAL</td>\n      <td>C</td>\n      <td>5500</td>\n      <td>12.87</td>\n      <td>1</td>\n      <td>0.57</td>\n      <td>N</td>\n      <td>3</td>\n    </tr>\n    <tr>\n      <th>3</th>\n      <td>23</td>\n      <td>65500</td>\n      <td>RENT</td>\n      <td>4.0</td>\n      <td>MEDICAL</td>\n      <td>C</td>\n      <td>35000</td>\n      <td>15.23</td>\n      <td>1</td>\n      <td>0.53</td>\n      <td>N</td>\n      <td>2</td>\n    </tr>\n    <tr>\n      <th>4</th>\n      <td>24</td>\n      <td>54400</td>\n      <td>RENT</td>\n      <td>8.0</td>\n      <td>MEDICAL</td>\n      <td>C</td>\n      <td>35000</td>\n      <td>14.27</td>\n      <td>1</td>\n      <td>0.55</td>\n      <td>Y</td>\n      <td>4</td>\n    </tr>\n    <tr>\n      <th>...</th>\n      <td>...</td>\n      <td>...</td>\n      <td>...</td>\n      <td>...</td>\n      <td>...</td>\n      <td>...</td>\n      <td>...</td>\n      <td>...</td>\n      <td>...</td>\n      <td>...</td>\n      <td>...</td>\n      <td>...</td>\n    </tr>\n    <tr>\n      <th>32576</th>\n      <td>57</td>\n      <td>53000</td>\n      <td>MORTGAGE</td>\n      <td>1.0</td>\n      <td>PERSONAL</td>\n      <td>C</td>\n      <td>5800</td>\n      <td>13.16</td>\n      <td>0</td>\n      <td>0.11</td>\n      <td>N</td>\n      <td>30</td>\n    </tr>\n    <tr>\n      <th>32577</th>\n      <td>54</td>\n      <td>120000</td>\n      <td>MORTGAGE</td>\n      <td>4.0</td>\n      <td>PERSONAL</td>\n      <td>A</td>\n      <td>17625</td>\n      <td>7.49</td>\n      <td>0</td>\n      <td>0.15</td>\n      <td>N</td>\n      <td>19</td>\n    </tr>\n    <tr>\n      <th>32578</th>\n      <td>65</td>\n      <td>76000</td>\n      <td>RENT</td>\n      <td>3.0</td>\n      <td>HOMEIMPROVEMENT</td>\n      <td>B</td>\n      <td>35000</td>\n      <td>10.99</td>\n      <td>1</td>\n      <td>0.46</td>\n      <td>N</td>\n      <td>28</td>\n    </tr>\n    <tr>\n      <th>32579</th>\n      <td>56</td>\n      <td>150000</td>\n      <td>MORTGAGE</td>\n      <td>5.0</td>\n      <td>PERSONAL</td>\n      <td>B</td>\n      <td>15000</td>\n      <td>11.48</td>\n      <td>0</td>\n      <td>0.10</td>\n      <td>N</td>\n      <td>26</td>\n    </tr>\n    <tr>\n      <th>32580</th>\n      <td>66</td>\n      <td>42000</td>\n      <td>RENT</td>\n      <td>2.0</td>\n      <td>MEDICAL</td>\n      <td>B</td>\n      <td>6475</td>\n      <td>9.99</td>\n      <td>0</td>\n      <td>0.15</td>\n      <td>N</td>\n      <td>30</td>\n    </tr>\n  </tbody>\n</table>\n<p>32581 rows × 12 columns</p>\n</div>"
     },
     "execution_count": 5,
     "metadata": {},
     "output_type": "execute_result"
    }
   ],
   "source": [
    "df = pd.read_csv('initial_dataset.csv')\n",
    "df"
   ]
  },
  {
   "cell_type": "code",
   "execution_count": 6,
   "id": "7d5e9aac-2072-4dfb-b937-3fcdab554baf",
   "metadata": {
    "ExecuteTime": {
     "end_time": "2023-12-19T17:37:17.980504Z",
     "start_time": "2023-12-19T17:37:17.824936Z"
    }
   },
   "outputs": [
    {
     "data": {
      "text/plain": "       person_age  person_income person_home_ownership  person_emp_length  \\\n0              22          59000                  RENT              123.0   \n1              21           9600                   OWN                5.0   \n2              25           9600              MORTGAGE                1.0   \n3              23          65500                  RENT                4.0   \n4              24          54400                  RENT                8.0   \n...           ...            ...                   ...                ...   \n32576          57          53000              MORTGAGE                1.0   \n32577          54         120000              MORTGAGE                4.0   \n32578          65          76000                  RENT                3.0   \n32579          56         150000              MORTGAGE                5.0   \n32580          66          42000                  RENT                2.0   \n\n           loan_intent loan_grade  loan_amount  loan_int_rate  loan_status  \\\n0             PERSONAL          D        35000          16.02            1   \n1            EDUCATION          B         1000          11.14            0   \n2              MEDICAL          C         5500          12.87            1   \n3              MEDICAL          C        35000          15.23            1   \n4              MEDICAL          C        35000          14.27            1   \n...                ...        ...          ...            ...          ...   \n32576         PERSONAL          C         5800          13.16            0   \n32577         PERSONAL          A        17625           7.49            0   \n32578  HOMEIMPROVEMENT          B        35000          10.99            1   \n32579         PERSONAL          B        15000          11.48            0   \n32580          MEDICAL          B         6475           9.99            0   \n\n       loan_percent_income cb_person_default_on_file  \\\n0                     0.59                         Y   \n1                     0.10                         N   \n2                     0.57                         N   \n3                     0.53                         N   \n4                     0.55                         Y   \n...                    ...                       ...   \n32576                 0.11                         N   \n32577                 0.15                         N   \n32578                 0.46                         N   \n32579                 0.10                         N   \n32580                 0.15                         N   \n\n       cb_person_cred_hist_length  \n0                               3  \n1                               2  \n2                               3  \n3                               2  \n4                               4  \n...                           ...  \n32576                          30  \n32577                          19  \n32578                          28  \n32579                          26  \n32580                          30  \n\n[32416 rows x 12 columns]",
      "text/html": "<div>\n<style scoped>\n    .dataframe tbody tr th:only-of-type {\n        vertical-align: middle;\n    }\n\n    .dataframe tbody tr th {\n        vertical-align: top;\n    }\n\n    .dataframe thead th {\n        text-align: right;\n    }\n</style>\n<table border=\"1\" class=\"dataframe\">\n  <thead>\n    <tr style=\"text-align: right;\">\n      <th></th>\n      <th>person_age</th>\n      <th>person_income</th>\n      <th>person_home_ownership</th>\n      <th>person_emp_length</th>\n      <th>loan_intent</th>\n      <th>loan_grade</th>\n      <th>loan_amount</th>\n      <th>loan_int_rate</th>\n      <th>loan_status</th>\n      <th>loan_percent_income</th>\n      <th>cb_person_default_on_file</th>\n      <th>cb_person_cred_hist_length</th>\n    </tr>\n  </thead>\n  <tbody>\n    <tr>\n      <th>0</th>\n      <td>22</td>\n      <td>59000</td>\n      <td>RENT</td>\n      <td>123.0</td>\n      <td>PERSONAL</td>\n      <td>D</td>\n      <td>35000</td>\n      <td>16.02</td>\n      <td>1</td>\n      <td>0.59</td>\n      <td>Y</td>\n      <td>3</td>\n    </tr>\n    <tr>\n      <th>1</th>\n      <td>21</td>\n      <td>9600</td>\n      <td>OWN</td>\n      <td>5.0</td>\n      <td>EDUCATION</td>\n      <td>B</td>\n      <td>1000</td>\n      <td>11.14</td>\n      <td>0</td>\n      <td>0.10</td>\n      <td>N</td>\n      <td>2</td>\n    </tr>\n    <tr>\n      <th>2</th>\n      <td>25</td>\n      <td>9600</td>\n      <td>MORTGAGE</td>\n      <td>1.0</td>\n      <td>MEDICAL</td>\n      <td>C</td>\n      <td>5500</td>\n      <td>12.87</td>\n      <td>1</td>\n      <td>0.57</td>\n      <td>N</td>\n      <td>3</td>\n    </tr>\n    <tr>\n      <th>3</th>\n      <td>23</td>\n      <td>65500</td>\n      <td>RENT</td>\n      <td>4.0</td>\n      <td>MEDICAL</td>\n      <td>C</td>\n      <td>35000</td>\n      <td>15.23</td>\n      <td>1</td>\n      <td>0.53</td>\n      <td>N</td>\n      <td>2</td>\n    </tr>\n    <tr>\n      <th>4</th>\n      <td>24</td>\n      <td>54400</td>\n      <td>RENT</td>\n      <td>8.0</td>\n      <td>MEDICAL</td>\n      <td>C</td>\n      <td>35000</td>\n      <td>14.27</td>\n      <td>1</td>\n      <td>0.55</td>\n      <td>Y</td>\n      <td>4</td>\n    </tr>\n    <tr>\n      <th>...</th>\n      <td>...</td>\n      <td>...</td>\n      <td>...</td>\n      <td>...</td>\n      <td>...</td>\n      <td>...</td>\n      <td>...</td>\n      <td>...</td>\n      <td>...</td>\n      <td>...</td>\n      <td>...</td>\n      <td>...</td>\n    </tr>\n    <tr>\n      <th>32576</th>\n      <td>57</td>\n      <td>53000</td>\n      <td>MORTGAGE</td>\n      <td>1.0</td>\n      <td>PERSONAL</td>\n      <td>C</td>\n      <td>5800</td>\n      <td>13.16</td>\n      <td>0</td>\n      <td>0.11</td>\n      <td>N</td>\n      <td>30</td>\n    </tr>\n    <tr>\n      <th>32577</th>\n      <td>54</td>\n      <td>120000</td>\n      <td>MORTGAGE</td>\n      <td>4.0</td>\n      <td>PERSONAL</td>\n      <td>A</td>\n      <td>17625</td>\n      <td>7.49</td>\n      <td>0</td>\n      <td>0.15</td>\n      <td>N</td>\n      <td>19</td>\n    </tr>\n    <tr>\n      <th>32578</th>\n      <td>65</td>\n      <td>76000</td>\n      <td>RENT</td>\n      <td>3.0</td>\n      <td>HOMEIMPROVEMENT</td>\n      <td>B</td>\n      <td>35000</td>\n      <td>10.99</td>\n      <td>1</td>\n      <td>0.46</td>\n      <td>N</td>\n      <td>28</td>\n    </tr>\n    <tr>\n      <th>32579</th>\n      <td>56</td>\n      <td>150000</td>\n      <td>MORTGAGE</td>\n      <td>5.0</td>\n      <td>PERSONAL</td>\n      <td>B</td>\n      <td>15000</td>\n      <td>11.48</td>\n      <td>0</td>\n      <td>0.10</td>\n      <td>N</td>\n      <td>26</td>\n    </tr>\n    <tr>\n      <th>32580</th>\n      <td>66</td>\n      <td>42000</td>\n      <td>RENT</td>\n      <td>2.0</td>\n      <td>MEDICAL</td>\n      <td>B</td>\n      <td>6475</td>\n      <td>9.99</td>\n      <td>0</td>\n      <td>0.15</td>\n      <td>N</td>\n      <td>30</td>\n    </tr>\n  </tbody>\n</table>\n<p>32416 rows × 12 columns</p>\n</div>"
     },
     "execution_count": 6,
     "metadata": {},
     "output_type": "execute_result"
    }
   ],
   "source": [
    "df = df.drop_duplicates()\n",
    "df"
   ]
  },
  {
   "cell_type": "code",
   "execution_count": 7,
   "id": "078606b0-d47b-4830-8935-465736b6e05d",
   "metadata": {
    "ExecuteTime": {
     "end_time": "2023-12-19T17:37:17.994025200Z",
     "start_time": "2023-12-19T17:37:17.899174300Z"
    }
   },
   "outputs": [
    {
     "data": {
      "text/plain": "       person_age  person_income  person_emp_length person_home_ownership  \\\n0              22          59000              123.0                  RENT   \n1              21           9600                5.0                   OWN   \n2              25           9600                1.0              MORTGAGE   \n3              23          65500                4.0                  RENT   \n4              24          54400                8.0                  RENT   \n...           ...            ...                ...                   ...   \n32576          57          53000                1.0              MORTGAGE   \n32577          54         120000                4.0              MORTGAGE   \n32578          65          76000                3.0                  RENT   \n32579          56         150000                5.0              MORTGAGE   \n32580          66          42000                2.0                  RENT   \n\n           loan_intent  loan_amount  loan_int_rate cb_person_default_on_file  \\\n0             PERSONAL        35000          16.02                         Y   \n1            EDUCATION         1000          11.14                         N   \n2              MEDICAL         5500          12.87                         N   \n3              MEDICAL        35000          15.23                         N   \n4              MEDICAL        35000          14.27                         Y   \n...                ...          ...            ...                       ...   \n32576         PERSONAL         5800          13.16                         N   \n32577         PERSONAL        17625           7.49                         N   \n32578  HOMEIMPROVEMENT        35000          10.99                         N   \n32579         PERSONAL        15000          11.48                         N   \n32580          MEDICAL         6475           9.99                         N   \n\n      loan_grade  cb_person_cred_hist_length  loan_status  \n0              D                           3            1  \n1              B                           2            0  \n2              C                           3            1  \n3              C                           2            1  \n4              C                           4            1  \n...          ...                         ...          ...  \n32576          C                          30            0  \n32577          A                          19            0  \n32578          B                          28            1  \n32579          B                          26            0  \n32580          B                          30            0  \n\n[32416 rows x 11 columns]",
      "text/html": "<div>\n<style scoped>\n    .dataframe tbody tr th:only-of-type {\n        vertical-align: middle;\n    }\n\n    .dataframe tbody tr th {\n        vertical-align: top;\n    }\n\n    .dataframe thead th {\n        text-align: right;\n    }\n</style>\n<table border=\"1\" class=\"dataframe\">\n  <thead>\n    <tr style=\"text-align: right;\">\n      <th></th>\n      <th>person_age</th>\n      <th>person_income</th>\n      <th>person_emp_length</th>\n      <th>person_home_ownership</th>\n      <th>loan_intent</th>\n      <th>loan_amount</th>\n      <th>loan_int_rate</th>\n      <th>cb_person_default_on_file</th>\n      <th>loan_grade</th>\n      <th>cb_person_cred_hist_length</th>\n      <th>loan_status</th>\n    </tr>\n  </thead>\n  <tbody>\n    <tr>\n      <th>0</th>\n      <td>22</td>\n      <td>59000</td>\n      <td>123.0</td>\n      <td>RENT</td>\n      <td>PERSONAL</td>\n      <td>35000</td>\n      <td>16.02</td>\n      <td>Y</td>\n      <td>D</td>\n      <td>3</td>\n      <td>1</td>\n    </tr>\n    <tr>\n      <th>1</th>\n      <td>21</td>\n      <td>9600</td>\n      <td>5.0</td>\n      <td>OWN</td>\n      <td>EDUCATION</td>\n      <td>1000</td>\n      <td>11.14</td>\n      <td>N</td>\n      <td>B</td>\n      <td>2</td>\n      <td>0</td>\n    </tr>\n    <tr>\n      <th>2</th>\n      <td>25</td>\n      <td>9600</td>\n      <td>1.0</td>\n      <td>MORTGAGE</td>\n      <td>MEDICAL</td>\n      <td>5500</td>\n      <td>12.87</td>\n      <td>N</td>\n      <td>C</td>\n      <td>3</td>\n      <td>1</td>\n    </tr>\n    <tr>\n      <th>3</th>\n      <td>23</td>\n      <td>65500</td>\n      <td>4.0</td>\n      <td>RENT</td>\n      <td>MEDICAL</td>\n      <td>35000</td>\n      <td>15.23</td>\n      <td>N</td>\n      <td>C</td>\n      <td>2</td>\n      <td>1</td>\n    </tr>\n    <tr>\n      <th>4</th>\n      <td>24</td>\n      <td>54400</td>\n      <td>8.0</td>\n      <td>RENT</td>\n      <td>MEDICAL</td>\n      <td>35000</td>\n      <td>14.27</td>\n      <td>Y</td>\n      <td>C</td>\n      <td>4</td>\n      <td>1</td>\n    </tr>\n    <tr>\n      <th>...</th>\n      <td>...</td>\n      <td>...</td>\n      <td>...</td>\n      <td>...</td>\n      <td>...</td>\n      <td>...</td>\n      <td>...</td>\n      <td>...</td>\n      <td>...</td>\n      <td>...</td>\n      <td>...</td>\n    </tr>\n    <tr>\n      <th>32576</th>\n      <td>57</td>\n      <td>53000</td>\n      <td>1.0</td>\n      <td>MORTGAGE</td>\n      <td>PERSONAL</td>\n      <td>5800</td>\n      <td>13.16</td>\n      <td>N</td>\n      <td>C</td>\n      <td>30</td>\n      <td>0</td>\n    </tr>\n    <tr>\n      <th>32577</th>\n      <td>54</td>\n      <td>120000</td>\n      <td>4.0</td>\n      <td>MORTGAGE</td>\n      <td>PERSONAL</td>\n      <td>17625</td>\n      <td>7.49</td>\n      <td>N</td>\n      <td>A</td>\n      <td>19</td>\n      <td>0</td>\n    </tr>\n    <tr>\n      <th>32578</th>\n      <td>65</td>\n      <td>76000</td>\n      <td>3.0</td>\n      <td>RENT</td>\n      <td>HOMEIMPROVEMENT</td>\n      <td>35000</td>\n      <td>10.99</td>\n      <td>N</td>\n      <td>B</td>\n      <td>28</td>\n      <td>1</td>\n    </tr>\n    <tr>\n      <th>32579</th>\n      <td>56</td>\n      <td>150000</td>\n      <td>5.0</td>\n      <td>MORTGAGE</td>\n      <td>PERSONAL</td>\n      <td>15000</td>\n      <td>11.48</td>\n      <td>N</td>\n      <td>B</td>\n      <td>26</td>\n      <td>0</td>\n    </tr>\n    <tr>\n      <th>32580</th>\n      <td>66</td>\n      <td>42000</td>\n      <td>2.0</td>\n      <td>RENT</td>\n      <td>MEDICAL</td>\n      <td>6475</td>\n      <td>9.99</td>\n      <td>N</td>\n      <td>B</td>\n      <td>30</td>\n      <td>0</td>\n    </tr>\n  </tbody>\n</table>\n<p>32416 rows × 11 columns</p>\n</div>"
     },
     "execution_count": 7,
     "metadata": {},
     "output_type": "execute_result"
    }
   ],
   "source": [
    "df = df[['person_age', 'person_income', 'person_emp_length', 'person_home_ownership', 'loan_intent', 'loan_amount', 'loan_int_rate', 'cb_person_default_on_file', 'loan_grade', 'cb_person_cred_hist_length', 'loan_status']]\n",
    "df"
   ]
  },
  {
   "cell_type": "code",
   "execution_count": 8,
   "id": "971a3634-712a-4109-a334-dced54d3322b",
   "metadata": {
    "ExecuteTime": {
     "end_time": "2023-12-19T17:37:18.115172400Z",
     "start_time": "2023-12-19T17:37:17.980504Z"
    }
   },
   "outputs": [
    {
     "name": "stderr",
     "output_type": "stream",
     "text": [
      "C:\\Users\\Dima\\AppData\\Local\\Temp\\ipykernel_18524\\2582085340.py:14: SettingWithCopyWarning: \n",
      "A value is trying to be set on a copy of a slice from a DataFrame\n",
      "\n",
      "See the caveats in the documentation: https://pandas.pydata.org/pandas-docs/stable/user_guide/indexing.html#returning-a-view-versus-a-copy\n",
      "  df.rename(columns=mapping, inplace=True)\n"
     ]
    },
    {
     "data": {
      "text/plain": "       age  month_income  employment_length home_ownership      loan_intent  \\\n0       22         59000              123.0           RENT         PERSONAL   \n1       21          9600                5.0            OWN        EDUCATION   \n2       25          9600                1.0       MORTGAGE          MEDICAL   \n3       23         65500                4.0           RENT          MEDICAL   \n4       24         54400                8.0           RENT          MEDICAL   \n...    ...           ...                ...            ...              ...   \n32576   57         53000                1.0       MORTGAGE         PERSONAL   \n32577   54        120000                4.0       MORTGAGE         PERSONAL   \n32578   65         76000                3.0           RENT  HOMEIMPROVEMENT   \n32579   56        150000                5.0       MORTGAGE         PERSONAL   \n32580   66         42000                2.0           RENT          MEDICAL   \n\n       loan_amount  loan_interest_rate previous_default loan_grade  \\\n0            35000               16.02                Y          D   \n1             1000               11.14                N          B   \n2             5500               12.87                N          C   \n3            35000               15.23                N          C   \n4            35000               14.27                Y          C   \n...            ...                 ...              ...        ...   \n32576         5800               13.16                N          C   \n32577        17625                7.49                N          A   \n32578        35000               10.99                N          B   \n32579        15000               11.48                N          B   \n32580         6475                9.99                N          B   \n\n       previous_loans  loan_status  \n0                   3            1  \n1                   2            0  \n2                   3            1  \n3                   2            1  \n4                   4            1  \n...               ...          ...  \n32576              30            0  \n32577              19            0  \n32578              28            1  \n32579              26            0  \n32580              30            0  \n\n[32416 rows x 11 columns]",
      "text/html": "<div>\n<style scoped>\n    .dataframe tbody tr th:only-of-type {\n        vertical-align: middle;\n    }\n\n    .dataframe tbody tr th {\n        vertical-align: top;\n    }\n\n    .dataframe thead th {\n        text-align: right;\n    }\n</style>\n<table border=\"1\" class=\"dataframe\">\n  <thead>\n    <tr style=\"text-align: right;\">\n      <th></th>\n      <th>age</th>\n      <th>month_income</th>\n      <th>employment_length</th>\n      <th>home_ownership</th>\n      <th>loan_intent</th>\n      <th>loan_amount</th>\n      <th>loan_interest_rate</th>\n      <th>previous_default</th>\n      <th>loan_grade</th>\n      <th>previous_loans</th>\n      <th>loan_status</th>\n    </tr>\n  </thead>\n  <tbody>\n    <tr>\n      <th>0</th>\n      <td>22</td>\n      <td>59000</td>\n      <td>123.0</td>\n      <td>RENT</td>\n      <td>PERSONAL</td>\n      <td>35000</td>\n      <td>16.02</td>\n      <td>Y</td>\n      <td>D</td>\n      <td>3</td>\n      <td>1</td>\n    </tr>\n    <tr>\n      <th>1</th>\n      <td>21</td>\n      <td>9600</td>\n      <td>5.0</td>\n      <td>OWN</td>\n      <td>EDUCATION</td>\n      <td>1000</td>\n      <td>11.14</td>\n      <td>N</td>\n      <td>B</td>\n      <td>2</td>\n      <td>0</td>\n    </tr>\n    <tr>\n      <th>2</th>\n      <td>25</td>\n      <td>9600</td>\n      <td>1.0</td>\n      <td>MORTGAGE</td>\n      <td>MEDICAL</td>\n      <td>5500</td>\n      <td>12.87</td>\n      <td>N</td>\n      <td>C</td>\n      <td>3</td>\n      <td>1</td>\n    </tr>\n    <tr>\n      <th>3</th>\n      <td>23</td>\n      <td>65500</td>\n      <td>4.0</td>\n      <td>RENT</td>\n      <td>MEDICAL</td>\n      <td>35000</td>\n      <td>15.23</td>\n      <td>N</td>\n      <td>C</td>\n      <td>2</td>\n      <td>1</td>\n    </tr>\n    <tr>\n      <th>4</th>\n      <td>24</td>\n      <td>54400</td>\n      <td>8.0</td>\n      <td>RENT</td>\n      <td>MEDICAL</td>\n      <td>35000</td>\n      <td>14.27</td>\n      <td>Y</td>\n      <td>C</td>\n      <td>4</td>\n      <td>1</td>\n    </tr>\n    <tr>\n      <th>...</th>\n      <td>...</td>\n      <td>...</td>\n      <td>...</td>\n      <td>...</td>\n      <td>...</td>\n      <td>...</td>\n      <td>...</td>\n      <td>...</td>\n      <td>...</td>\n      <td>...</td>\n      <td>...</td>\n    </tr>\n    <tr>\n      <th>32576</th>\n      <td>57</td>\n      <td>53000</td>\n      <td>1.0</td>\n      <td>MORTGAGE</td>\n      <td>PERSONAL</td>\n      <td>5800</td>\n      <td>13.16</td>\n      <td>N</td>\n      <td>C</td>\n      <td>30</td>\n      <td>0</td>\n    </tr>\n    <tr>\n      <th>32577</th>\n      <td>54</td>\n      <td>120000</td>\n      <td>4.0</td>\n      <td>MORTGAGE</td>\n      <td>PERSONAL</td>\n      <td>17625</td>\n      <td>7.49</td>\n      <td>N</td>\n      <td>A</td>\n      <td>19</td>\n      <td>0</td>\n    </tr>\n    <tr>\n      <th>32578</th>\n      <td>65</td>\n      <td>76000</td>\n      <td>3.0</td>\n      <td>RENT</td>\n      <td>HOMEIMPROVEMENT</td>\n      <td>35000</td>\n      <td>10.99</td>\n      <td>N</td>\n      <td>B</td>\n      <td>28</td>\n      <td>1</td>\n    </tr>\n    <tr>\n      <th>32579</th>\n      <td>56</td>\n      <td>150000</td>\n      <td>5.0</td>\n      <td>MORTGAGE</td>\n      <td>PERSONAL</td>\n      <td>15000</td>\n      <td>11.48</td>\n      <td>N</td>\n      <td>B</td>\n      <td>26</td>\n      <td>0</td>\n    </tr>\n    <tr>\n      <th>32580</th>\n      <td>66</td>\n      <td>42000</td>\n      <td>2.0</td>\n      <td>RENT</td>\n      <td>MEDICAL</td>\n      <td>6475</td>\n      <td>9.99</td>\n      <td>N</td>\n      <td>B</td>\n      <td>30</td>\n      <td>0</td>\n    </tr>\n  </tbody>\n</table>\n<p>32416 rows × 11 columns</p>\n</div>"
     },
     "execution_count": 8,
     "metadata": {},
     "output_type": "execute_result"
    }
   ],
   "source": [
    "mapping = {\n",
    "    'person_age': 'age',\n",
    "    'person_income': 'month_income',\n",
    "    'person_home_ownership': 'home_ownership',\n",
    "    'person_emp_length': 'employment_length',\n",
    "    'loan_intent': 'loan_intent',\n",
    "    'loan_amount': 'loan_amount',\n",
    "    'loan_int_rate': 'loan_interest_rate',\n",
    "    'loan_status': 'loan_status',\n",
    "    'loan_grade': 'loan_grade',\n",
    "    'cb_person_cred_hist_length': 'previous_loans',\n",
    "    'cb_person_default_on_file': 'previous_default'\n",
    "}\n",
    "df.rename(columns=mapping, inplace=True)\n",
    "df"
   ]
  },
  {
   "cell_type": "code",
   "execution_count": 9,
   "id": "4e437322-f15b-4288-9bca-bdfb2b645cbc",
   "metadata": {
    "ExecuteTime": {
     "end_time": "2023-12-19T17:37:18.173920200Z",
     "start_time": "2023-12-19T17:37:17.992023200Z"
    }
   },
   "outputs": [
    {
     "name": "stderr",
     "output_type": "stream",
     "text": [
      "C:\\Users\\Dima\\AppData\\Local\\Temp\\ipykernel_18524\\2321718961.py:1: SettingWithCopyWarning: \n",
      "A value is trying to be set on a copy of a slice from a DataFrame\n",
      "\n",
      "See the caveats in the documentation: https://pandas.pydata.org/pandas-docs/stable/user_guide/indexing.html#returning-a-view-versus-a-copy\n",
      "  df['loan_intent'].replace({'HOMEIMPROVEMENT': 'HOME_IMPROVEMENT', 'DEBTCONSOLIDATION': 'DEBT_CONSOLIDATION'}, inplace=True)\n",
      "C:\\Users\\Dima\\AppData\\Local\\Temp\\ipykernel_18524\\2321718961.py:2: SettingWithCopyWarning: \n",
      "A value is trying to be set on a copy of a slice from a DataFrame\n",
      "\n",
      "See the caveats in the documentation: https://pandas.pydata.org/pandas-docs/stable/user_guide/indexing.html#returning-a-view-versus-a-copy\n",
      "  df['previous_default'].replace({'Y': 'YES', 'N': 'NO'}, inplace=True)\n",
      "C:\\Users\\Dima\\AppData\\Local\\Temp\\ipykernel_18524\\2321718961.py:3: SettingWithCopyWarning: \n",
      "A value is trying to be set on a copy of a slice from a DataFrame.\n",
      "Try using .loc[row_indexer,col_indexer] = value instead\n",
      "\n",
      "See the caveats in the documentation: https://pandas.pydata.org/pandas-docs/stable/user_guide/indexing.html#returning-a-view-versus-a-copy\n",
      "  df['loan_status'] = df['loan_status'].replace({0: 1, 1: 0})\n",
      "C:\\Users\\Dima\\AppData\\Local\\Temp\\ipykernel_18524\\2321718961.py:5: SettingWithCopyWarning: \n",
      "A value is trying to be set on a copy of a slice from a DataFrame\n",
      "\n",
      "See the caveats in the documentation: https://pandas.pydata.org/pandas-docs/stable/user_guide/indexing.html#returning-a-view-versus-a-copy\n",
      "  df.drop(df[df['age'] > 90].index, inplace = True) # Викидаємо людей який більше 90-та років\n",
      "C:\\Users\\Dima\\AppData\\Local\\Temp\\ipykernel_18524\\2321718961.py:6: SettingWithCopyWarning: \n",
      "A value is trying to be set on a copy of a slice from a DataFrame\n",
      "\n",
      "See the caveats in the documentation: https://pandas.pydata.org/pandas-docs/stable/user_guide/indexing.html#returning-a-view-versus-a-copy\n",
      "  df.drop(df[df['month_income'] > 300_000].index, inplace = True) # Викидаємо людей які заробляють більше 300.000\n"
     ]
    }
   ],
   "source": [
    "df['loan_intent'].replace({'HOMEIMPROVEMENT': 'HOME_IMPROVEMENT', 'DEBTCONSOLIDATION': 'DEBT_CONSOLIDATION'}, inplace=True)\n",
    "df['previous_default'].replace({'Y': 'YES', 'N': 'NO'}, inplace=True)\n",
    "df['loan_status'] = df['loan_status'].replace({0: 1, 1: 0})\n",
    "\n",
    "df.drop(df[df['age'] > 90].index, inplace = True) # Викидаємо людей який більше 90-та років\n",
    "df.drop(df[df['month_income'] > 300_000].index, inplace = True) # Викидаємо людей які заробляють більше 300.000\n",
    "df.loc[df['employment_length'] > 90, 'employment_length'] = np.NaN"
   ]
  },
  {
   "cell_type": "code",
   "execution_count": 10,
   "id": "6f46f183-bf74-4f82-b21b-5d87d3083250",
   "metadata": {
    "ExecuteTime": {
     "end_time": "2023-12-19T17:37:18.398105Z",
     "start_time": "2023-12-19T17:37:18.054940200Z"
    }
   },
   "outputs": [],
   "source": [
    "df = fill_data_median(df, 'employment_length')\n",
    "df = fill_data_mean(df, 'loan_interest_rate')"
   ]
  },
  {
   "cell_type": "code",
   "execution_count": 11,
   "id": "a738ab14-1bd4-4bc5-a333-6084fe227362",
   "metadata": {
    "ExecuteTime": {
     "end_time": "2023-12-19T17:37:18.398105Z",
     "start_time": "2023-12-19T17:37:18.136759100Z"
    }
   },
   "outputs": [],
   "source": [
    "df['employment_length'] = df['employment_length'].astype('int')"
   ]
  },
  {
   "cell_type": "code",
   "execution_count": 12,
   "id": "3bd4718f-eea4-4a1d-90b9-60cc22cb4548",
   "metadata": {
    "ExecuteTime": {
     "end_time": "2023-12-19T17:37:18.507684200Z",
     "start_time": "2023-12-19T17:37:18.153326900Z"
    }
   },
   "outputs": [
    {
     "data": {
      "text/plain": "       age  month_income  employment_length home_ownership       loan_intent  \\\n0       22         59000                  4           RENT          PERSONAL   \n1       21          9600                  5            OWN         EDUCATION   \n2       25          9600                  1       MORTGAGE           MEDICAL   \n3       23         65500                  4           RENT           MEDICAL   \n4       24         54400                  8           RENT           MEDICAL   \n...    ...           ...                ...            ...               ...   \n32576   57         53000                  1       MORTGAGE          PERSONAL   \n32577   54        120000                  4       MORTGAGE          PERSONAL   \n32578   65         76000                  3           RENT  HOME_IMPROVEMENT   \n32579   56        150000                  5       MORTGAGE          PERSONAL   \n32580   66         42000                  2           RENT           MEDICAL   \n\n       loan_amount  loan_interest_rate  previous_loans previous_default  \\\n0            35000               16.02               3              YES   \n1             1000               11.14               2               NO   \n2             5500               12.87               3               NO   \n3            35000               15.23               2               NO   \n4            35000               14.27               4              YES   \n...            ...                 ...             ...              ...   \n32576         5800               13.16              30               NO   \n32577        17625                7.49              19               NO   \n32578        35000               10.99              28               NO   \n32579        15000               11.48              26               NO   \n32580         6475                9.99              30               NO   \n\n      loan_grade  loan_status  \n0              D            0  \n1              B            1  \n2              C            0  \n3              C            0  \n4              C            0  \n...          ...          ...  \n32576          C            1  \n32577          A            1  \n32578          B            0  \n32579          B            1  \n32580          B            1  \n\n[32274 rows x 11 columns]",
      "text/html": "<div>\n<style scoped>\n    .dataframe tbody tr th:only-of-type {\n        vertical-align: middle;\n    }\n\n    .dataframe tbody tr th {\n        vertical-align: top;\n    }\n\n    .dataframe thead th {\n        text-align: right;\n    }\n</style>\n<table border=\"1\" class=\"dataframe\">\n  <thead>\n    <tr style=\"text-align: right;\">\n      <th></th>\n      <th>age</th>\n      <th>month_income</th>\n      <th>employment_length</th>\n      <th>home_ownership</th>\n      <th>loan_intent</th>\n      <th>loan_amount</th>\n      <th>loan_interest_rate</th>\n      <th>previous_loans</th>\n      <th>previous_default</th>\n      <th>loan_grade</th>\n      <th>loan_status</th>\n    </tr>\n  </thead>\n  <tbody>\n    <tr>\n      <th>0</th>\n      <td>22</td>\n      <td>59000</td>\n      <td>4</td>\n      <td>RENT</td>\n      <td>PERSONAL</td>\n      <td>35000</td>\n      <td>16.02</td>\n      <td>3</td>\n      <td>YES</td>\n      <td>D</td>\n      <td>0</td>\n    </tr>\n    <tr>\n      <th>1</th>\n      <td>21</td>\n      <td>9600</td>\n      <td>5</td>\n      <td>OWN</td>\n      <td>EDUCATION</td>\n      <td>1000</td>\n      <td>11.14</td>\n      <td>2</td>\n      <td>NO</td>\n      <td>B</td>\n      <td>1</td>\n    </tr>\n    <tr>\n      <th>2</th>\n      <td>25</td>\n      <td>9600</td>\n      <td>1</td>\n      <td>MORTGAGE</td>\n      <td>MEDICAL</td>\n      <td>5500</td>\n      <td>12.87</td>\n      <td>3</td>\n      <td>NO</td>\n      <td>C</td>\n      <td>0</td>\n    </tr>\n    <tr>\n      <th>3</th>\n      <td>23</td>\n      <td>65500</td>\n      <td>4</td>\n      <td>RENT</td>\n      <td>MEDICAL</td>\n      <td>35000</td>\n      <td>15.23</td>\n      <td>2</td>\n      <td>NO</td>\n      <td>C</td>\n      <td>0</td>\n    </tr>\n    <tr>\n      <th>4</th>\n      <td>24</td>\n      <td>54400</td>\n      <td>8</td>\n      <td>RENT</td>\n      <td>MEDICAL</td>\n      <td>35000</td>\n      <td>14.27</td>\n      <td>4</td>\n      <td>YES</td>\n      <td>C</td>\n      <td>0</td>\n    </tr>\n    <tr>\n      <th>...</th>\n      <td>...</td>\n      <td>...</td>\n      <td>...</td>\n      <td>...</td>\n      <td>...</td>\n      <td>...</td>\n      <td>...</td>\n      <td>...</td>\n      <td>...</td>\n      <td>...</td>\n      <td>...</td>\n    </tr>\n    <tr>\n      <th>32576</th>\n      <td>57</td>\n      <td>53000</td>\n      <td>1</td>\n      <td>MORTGAGE</td>\n      <td>PERSONAL</td>\n      <td>5800</td>\n      <td>13.16</td>\n      <td>30</td>\n      <td>NO</td>\n      <td>C</td>\n      <td>1</td>\n    </tr>\n    <tr>\n      <th>32577</th>\n      <td>54</td>\n      <td>120000</td>\n      <td>4</td>\n      <td>MORTGAGE</td>\n      <td>PERSONAL</td>\n      <td>17625</td>\n      <td>7.49</td>\n      <td>19</td>\n      <td>NO</td>\n      <td>A</td>\n      <td>1</td>\n    </tr>\n    <tr>\n      <th>32578</th>\n      <td>65</td>\n      <td>76000</td>\n      <td>3</td>\n      <td>RENT</td>\n      <td>HOME_IMPROVEMENT</td>\n      <td>35000</td>\n      <td>10.99</td>\n      <td>28</td>\n      <td>NO</td>\n      <td>B</td>\n      <td>0</td>\n    </tr>\n    <tr>\n      <th>32579</th>\n      <td>56</td>\n      <td>150000</td>\n      <td>5</td>\n      <td>MORTGAGE</td>\n      <td>PERSONAL</td>\n      <td>15000</td>\n      <td>11.48</td>\n      <td>26</td>\n      <td>NO</td>\n      <td>B</td>\n      <td>1</td>\n    </tr>\n    <tr>\n      <th>32580</th>\n      <td>66</td>\n      <td>42000</td>\n      <td>2</td>\n      <td>RENT</td>\n      <td>MEDICAL</td>\n      <td>6475</td>\n      <td>9.99</td>\n      <td>30</td>\n      <td>NO</td>\n      <td>B</td>\n      <td>1</td>\n    </tr>\n  </tbody>\n</table>\n<p>32274 rows × 11 columns</p>\n</div>"
     },
     "execution_count": 12,
     "metadata": {},
     "output_type": "execute_result"
    }
   ],
   "source": [
    "df = df[['age', 'month_income', 'employment_length', 'home_ownership', 'loan_intent', 'loan_amount', 'loan_interest_rate', 'previous_loans', 'previous_default', 'loan_grade', 'loan_status']]\n",
    "df"
   ]
  },
  {
   "cell_type": "code",
   "execution_count": 13,
   "id": "411e55a0-1d8a-480b-b71d-cc74d3e5f0d7",
   "metadata": {
    "ExecuteTime": {
     "end_time": "2023-12-19T17:37:18.616089300Z",
     "start_time": "2023-12-19T17:37:18.213120700Z"
    }
   },
   "outputs": [],
   "source": [
    "df.to_csv('credit_history.csv', index=False)"
   ]
  }
 ],
 "metadata": {
  "kernelspec": {
   "display_name": "Python 3 (ipykernel)",
   "language": "python",
   "name": "python3"
  },
  "language_info": {
   "codemirror_mode": {
    "name": "ipython",
    "version": 3
   },
   "file_extension": ".py",
   "mimetype": "text/x-python",
   "name": "python",
   "nbconvert_exporter": "python",
   "pygments_lexer": "ipython3",
   "version": "3.10.9"
  },
  "toc-autonumbering": true,
  "toc-showcode": false,
  "toc-showmarkdowntxt": false
 },
 "nbformat": 4,
 "nbformat_minor": 5
}
